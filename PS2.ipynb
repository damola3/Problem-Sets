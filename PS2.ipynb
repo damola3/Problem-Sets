{
 "cells": [
  {
   "cell_type": "markdown",
   "metadata": {},
   "source": [
    "# Problem Set 2"
   ]
  },
  {
   "cell_type": "markdown",
   "metadata": {},
   "source": [
    "## Boolean Connectives"
   ]
  },
  {
   "cell_type": "markdown",
   "metadata": {},
   "source": [
    "Construct functions `func_not`, `func_and`, and `func_or` that take `Boolean` variables and output a single boolean variable according to the [truth tables for these connectives](https://en.wikipedia.org/wiki/Truth_table#Binary_operations). `func_not` should take one argument and `func_and` and `func_or` should take two. Obviously, this is trvial if you use the biult in python `not`, `and`, and `or` fucntions, so do not use them."
   ]
  },
  {
   "cell_type": "code",
   "execution_count": 10,
   "metadata": {},
   "outputs": [],
   "source": [
    "def func_not(p):\n",
    "    \"\"\"\n",
    "    input: p is a boolean\n",
    "    output: boolean, negation of p\n",
    "    \"\"\"\n",
    "    if p:\n",
    "        return False\n",
    "    else:\n",
    "        return True\n",
    "\n",
    "\n",
    "def func_and(p,q):\n",
    "    \"\"\"\n",
    "    input: p and q are a boolean\n",
    "    output: boolean, conjunction of p and q\n",
    "    \"\"\"\n",
    "    if p:\n",
    "        if q:\n",
    "            return True\n",
    "        else:\n",
    "            return False\n",
    "    else:\n",
    "        return False\n",
    "        \n",
    "\n",
    "\n",
    "def func_or(p,q):\n",
    "    \"\"\"\n",
    "    input: p and q are a boolean\n",
    "    output: boolean, dijunction of p and q\n",
    "    \"\"\"\n",
    "    if p:\n",
    "        return True\n",
    "    else:\n",
    "        if q:\n",
    "            return True\n",
    "        else:\n",
    "            return False\n"
   ]
  },
  {
   "cell_type": "code",
   "execution_count": 11,
   "metadata": {},
   "outputs": [
    {
     "data": {
      "text/plain": [
       "False"
      ]
     },
     "execution_count": 11,
     "metadata": {},
     "output_type": "execute_result"
    }
   ],
   "source": [
    "func_or(False,False)"
   ]
  },
  {
   "cell_type": "markdown",
   "metadata": {},
   "source": [
    "## The Closest Square\n",
    "\n",
    "Create a function that takes as an input an integer and finds the nearest perfect square.\n",
    "\n",
    "<span style=\"color:#E83E2E\">**Hint:**</span> You can round numbers with the `round` function, you can take the absolute value with the `abs` function. These can be learned about using the great resource: google."
   ]
  },
  {
   "cell_type": "code",
   "execution_count": 12,
   "metadata": {},
   "outputs": [
    {
     "data": {
      "text/plain": [
       "[9]"
      ]
     },
     "execution_count": 12,
     "metadata": {},
     "output_type": "execute_result"
    }
   ],
   "source": [
    "import math\n",
    "def squares(n):\n",
    "    \"\"\"\n",
    "    input: positive integer\n",
    "    output: square of numbers less than integer\n",
    "    \"\"\"\n",
    "    to_sq=[]\n",
    "    for i in range(0,n+1):\n",
    "        to_sq.append(i*i)\n",
    "    \n",
    "    return to_sq\n",
    "    \n",
    "def nearestSq(n):\n",
    "    \"\"\"\n",
    "    input: n is integer, positive\n",
    "    output: integer, the nearest perfect sq\n",
    "    \"\"\"\n",
    "    lst=squares(n)\n",
    "    lst=sorted(lst, key=lambda num: abs(n-num))\n",
    "    return lst[0:1]\n",
    "\n",
    "nearestSq(10)"
   ]
  },
  {
   "cell_type": "markdown",
   "metadata": {},
   "source": [
    "Now, write a function that takes as an argument a list of integers and returns the same list of integers sorted by their distance to the nearest perfect square. To do this, use pythons sort by function feature, which you can read about [here](https://www.geeksforgeeks.org/sorted-function-python/).\n",
    "\n",
    "As a test case, arr = $[35, 27, 22, 40, 66, 81, 193, 125, 243, 782, 781, 534]$ should sort to $[81, 35, 27, 66, 782, 22, 193, 781, 40, 125, 534, 243]$"
   ]
  },
  {
   "cell_type": "code",
   "execution_count": 13,
   "metadata": {},
   "outputs": [
    {
     "data": {
      "text/plain": [
       "[81, 35, 27, 66, 782, 22, 193, 781, 40, 125, 534, 243]"
      ]
     },
     "execution_count": 13,
     "metadata": {},
     "output_type": "execute_result"
    }
   ],
   "source": [
    "def sortBySq(arr):\n",
    "    \"\"\"\n",
    "    input: array of integers, all positive\n",
    "    output: array sorted by distance to perfect sq\n",
    "    \"\"\"\n",
    "    sq_dist=sorted(arr,key=lambda x: abs(x-nearestSq(x)[0]))\n",
    "    return sq_dist\n",
    "\n",
    "arr =  [35,27,22,40,66,81,193,125,243,782,781,534]  \n",
    "\n",
    "sortBySq(arr)"
   ]
  },
  {
   "cell_type": "markdown",
   "metadata": {},
   "source": [
    "\n",
    " ## 3: Grades\n",
    "\n",
    "Write a function, `final_grade_ranking` that takes two inputs: a dictionary (containing students as keys and a list of grades of length n) and a set of weights for each assignment (the set of weights is also of length n). The output is a list of pairs (students names, grade) sorted by the weighted average.\n",
    "\n",
    "For example, here if there were three assignments, and four students the dictionary might be given by `grades` and the weights by `weights`, in the cell below. The weights can be thought of as percentages.\n",
    "\n",
    "The output should be `[('terri', 51), ('sherry', 54), ('kerry', 75), ('jerry', 78), ('hari', 79)]`\n",
    "\n",
    "**Hint**: Construct a function `final_grade` that calculates a final grade from the list of assignments and the weights. Then, use that function in the `final_grade_ranking` as the key on which to sort the list.\n"
   ]
  },
  {
   "cell_type": "code",
   "execution_count": 14,
   "metadata": {},
   "outputs": [],
   "source": [
    "grades = {'terri': [55,90,10], 'kerry': [88,66,77], 'sherry': [70, 90,10], 'jerry': [90, 60, 90], 'hari': [0, 100, 97]}\n",
    "weights = [20,40,40]"
   ]
  },
  {
   "cell_type": "code",
   "execution_count": 15,
   "metadata": {
    "scrolled": true
   },
   "outputs": [
    {
     "data": {
      "text/plain": [
       "['hari', 'jerry', 'kerry', 'sherry', 'terri']"
      ]
     },
     "execution_count": 15,
     "metadata": {},
     "output_type": "execute_result"
    }
   ],
   "source": [
    "def final_grade(gr,wghts):\n",
    "    \"\"\"\n",
    "    input: A dict (with students as keys & a list of length n) and a set of weights for each assignment (length n)\n",
    "    output: list of pairs (stu_nam/grade)\n",
    "    \"\"\"\n",
    "    its=range(len(wghts))\n",
    "    weigh_grad={}\n",
    "    for stu in gr:\n",
    "            for i in its:\n",
    "                if stu not in weigh_grad:\n",
    "                    weigh_grad[stu]=(gr[stu][i]*wghts[i])/100\n",
    "                else:\n",
    "                    weigh_grad[stu]+=(gr[stu][i]*wghts[i])/100\n",
    "    return weigh_grad\n",
    "\n",
    "sorted(final_grade(grades,weights))"
   ]
  },
  {
   "cell_type": "code",
   "execution_count": 17,
   "metadata": {},
   "outputs": [
    {
     "data": {
      "text/plain": [
       "[('hari', 78.8),\n",
       " ('jerry', 78.0),\n",
       " ('kerry', 74.8),\n",
       " ('sherry', 54.0),\n",
       " ('terri', 51.0)]"
      ]
     },
     "execution_count": 17,
     "metadata": {},
     "output_type": "execute_result"
    }
   ],
   "source": [
    "import operator\n",
    "def final_grade_ranking(gr,wghts):\n",
    "    \"\"\"\n",
    "    input: A dict (with students as keys & a list of length n) and a set of weights for each assignment (length n)\n",
    "    output: list of pairs (stu_nam/grade)\n",
    "    \"\"\"\n",
    "    its=range(len(wghts))\n",
    "    grd_list=list(final_grade(gr,wghts).items())\n",
    "    return sorted(grd_list, key=operator.itemgetter(1), reverse = True)\n",
    "    \n",
    "\n",
    "            \n",
    "\n",
    "final_grade_ranking(grades,weights)"
   ]
  }
 ],
 "metadata": {
  "kernelspec": {
   "display_name": "Python 3 (ipykernel)",
   "language": "python",
   "name": "python3"
  },
  "language_info": {
   "codemirror_mode": {
    "name": "ipython",
    "version": 3
   },
   "file_extension": ".py",
   "mimetype": "text/x-python",
   "name": "python",
   "nbconvert_exporter": "python",
   "pygments_lexer": "ipython3",
   "version": "3.9.12"
  }
 },
 "nbformat": 4,
 "nbformat_minor": 2
}
