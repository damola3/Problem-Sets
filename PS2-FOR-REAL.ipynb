{
 "cells": [
  {
   "cell_type": "markdown",
   "metadata": {},
   "source": [
    "# Problem Set 2 (FOR REAL)"
   ]
  },
  {
   "cell_type": "markdown",
   "metadata": {},
   "source": [
    "## Assest Returns\n",
    "\n",
    "There are n possible *states of the world*, $s_1, s_2, \\ldots s_n$. An **asset** is an object that pays a set amount of money (positive or negative) in each state of the world $a = [a_1,a_2,\\ldots a_n]$. For example $a = [2,2,-3]$ is the asset such that the owner receives 2 dollars in states 1 and 2 and loses 3 dollars in state 3. \n",
    "\n",
    "The **expected** or **average value** of an asset depends on the probability of each state. A probability distribution over the states is a triple $p = [p_1,p_2,\\ldots p_n]$ such that $p_i \\in [0,1]$ for all $i$ and $\\sum_i p_i = 1$. \n",
    "\n",
    "Write a function that takes a list of floats and checks if it is a probablity distribution. Return `True` if true and `False` if false."
   ]
  },
  {
   "cell_type": "code",
   "execution_count": 5,
   "metadata": {},
   "outputs": [],
   "source": [
    "def isProb(p):\n",
    "    \"\"\"\n",
    "    p: a list of floats\n",
    "    output: boolean: `True` if p is a prob distribution,  and `False` otherwise.\n",
    "    \"\"\"\n",
    "    prob=0\n",
    "    for i in p:\n",
    "        prob+=i\n",
    "    \n",
    "    return prob==1"
   ]
  },
  {
   "cell_type": "code",
   "execution_count": 8,
   "metadata": {},
   "outputs": [
    {
     "data": {
      "text/plain": [
       "True"
      ]
     },
     "execution_count": 8,
     "metadata": {},
     "output_type": "execute_result"
    }
   ],
   "source": [
    "isProb([.5,.25,.25,0])"
   ]
  },
  {
   "cell_type": "markdown",
   "metadata": {},
   "source": [
    "Write a function, `exValue` that takes as inputs an asset and a probability distribution and returns the expected value:\n",
    "$$ EV(a,p) = \\sum_i p_ia_i$$\n",
    "Make sure the function returns an error if the prob is not a probablity distribution or if the asset and prob are not defined on the same space (i.e., they have different lengths).\n",
    "\n",
    "Test cases: \n",
    "\n",
    "- `exValue([.5,.25,.25,0],[2,0,3,-3])` should return 1.75\n",
    "\n",
    "- `exValue([0,.25,.25,0],[2,0,3,-3])` should return ERROR\n",
    "\n",
    "- `exValue([.1,.5,.25,.15],[2,4,4,1])` should return 3.35"
   ]
  },
  {
   "cell_type": "code",
   "execution_count": 74,
   "metadata": {},
   "outputs": [],
   "source": [
    "def exValue(p,a):\n",
    "    \"\"\"\n",
    "    inputs: p: a probability distribution over n states\n",
    "            a: an asset paying over n states\n",
    "    output: the expected value of a according to p\n",
    "    \"\"\"\n",
    "    exval=0\n",
    "    for n in range(4):\n",
    "        exval+=p[n]*a[n]\n",
    "    if isProb(p)==True:\n",
    "        return exval\n",
    "    else:\n",
    "        return isProb(p)\n",
    "                    "
   ]
  },
  {
   "cell_type": "code",
   "execution_count": 75,
   "metadata": {},
   "outputs": [
    {
     "data": {
      "text/plain": [
       "False"
      ]
     },
     "execution_count": 75,
     "metadata": {},
     "output_type": "execute_result"
    }
   ],
   "source": [
    "exValue([.1,.5,.25,.15],[2,4,4,1])"
   ]
  },
  {
   "cell_type": "markdown",
   "metadata": {},
   "source": [
    "Finally, write a function that takes as an input a list of assests (of the same length) and a probability distrubtion. That output should be (i) a list of assest sorted by expected value (ii) a cooresponding list of epected values in the same order. Test case: \n",
    "\n",
    "- `sortByExVal([[2,4,4,1],[1,1,2,2],[-2,3,4,10]], [.25,.2,.2,.35])` should return \n",
    "$$([[1, 1, 2, 2], [2, 4, 4, 1], [-2, 3, 4, 10]], [1.55, 2.45, 4.4])$$"
   ]
  },
  {
   "cell_type": "code",
   "execution_count": 92,
   "metadata": {},
   "outputs": [],
   "source": [
    "def sortByExVal(arr, p):\n",
    "    \"\"\"\n",
    "    arr: a list of assests, all same length n\n",
    "    p: a prob dist of length n\n",
    "    output: the assets sorted by ev\n",
    "    \"\"\"\n",
    "    exlist=[]\n",
    "    for i in range (len(arr)):\n",
    "        exlist.append(exValue(p,arr[i]))\n",
    "    return sorted(exlist)\n"
   ]
  },
  {
   "cell_type": "code",
   "execution_count": 93,
   "metadata": {},
   "outputs": [
    {
     "data": {
      "text/plain": [
       "[1.55, 2.45, 4.4]"
      ]
     },
     "execution_count": 93,
     "metadata": {},
     "output_type": "execute_result"
    }
   ],
   "source": [
    "sortByExVal([[2,4,4,1],[1,1,2,2],[-2,3,4,10]], [.25,.2,.2,.35])"
   ]
  }
 ],
 "metadata": {
  "kernelspec": {
   "display_name": "Python 3 (ipykernel)",
   "language": "python",
   "name": "python3"
  },
  "language_info": {
   "codemirror_mode": {
    "name": "ipython",
    "version": 3
   },
   "file_extension": ".py",
   "mimetype": "text/x-python",
   "name": "python",
   "nbconvert_exporter": "python",
   "pygments_lexer": "ipython3",
   "version": "3.9.12"
  }
 },
 "nbformat": 4,
 "nbformat_minor": 2
}
