{
 "cells": [
  {
   "cell_type": "markdown",
   "metadata": {},
   "source": [
    "# Problem Set 0"
   ]
  },
  {
   "cell_type": "markdown",
   "metadata": {},
   "source": [
    "## Creating Data Types\n",
    "\n",
    "In the cell below, create the variables\n",
    "\n",
    "- Create a string called `s` \n",
    "- Create a integer called `i` \n",
    "- Create a Boolean called `b` \n",
    "- Create a float called `f` \n",
    "- Create a list called `l`, containing all the above variables\n",
    "- Create a dictionary called `d` with keys all of the above variables and associated entries the variables type. "
   ]
  },
  {
   "cell_type": "code",
   "execution_count": 34,
   "metadata": {},
   "outputs": [
    {
     "name": "stdout",
     "output_type": "stream",
     "text": [
      "{'s': 'string', 'i': 'int', 'b': <class 'bool'>, 6.6: <class 'float'>, 'l': <class 'list'>}\n"
     ]
    }
   ],
   "source": [
    "s = \"string\"\n",
    "i = 6\n",
    "b = True\n",
    "f = 6.6\n",
    "l = [1,2,3]\n",
    "d = {\"s\":\"string\",\"i\":\"int\",\"b\":bool,f:float,\"l\":list}\n",
    "\n",
    "print(d)"
   ]
  },
  {
   "cell_type": "markdown",
   "metadata": {},
   "source": [
    "## Converting Types\n",
    "\n",
    "Create a list, an integer and a float that, when converted into a Boolean will create `False`. Do the same again for that in convert to `True`. Verify this by taking the logical disjunction (i.e., OR) of the false variables. This will return `False` if and only if each variable is. Do the same with conjunction (i.e., AND) and the true variables. Print the results."
   ]
  },
  {
   "cell_type": "code",
   "execution_count": 53,
   "metadata": {},
   "outputs": [
    {
     "data": {
      "text/plain": [
       "True"
      ]
     },
     "execution_count": 53,
     "metadata": {},
     "output_type": "execute_result"
    }
   ],
   "source": [
    "l = [4,5,6]\n",
    "i = 7\n",
    "f = 8.8\n",
    "\n",
    "l == [4,5,7] or i == 8.8 or f == 9.2\n",
    "\n",
    "i == 7 and l == [4,5,6] and f == 8.8"
   ]
  },
  {
   "cell_type": "markdown",
   "metadata": {},
   "source": [
    "Find the product of `i`, `j`, and `k`. How many digits are in the product. Find the 4th, 13th, and 123rd (from the right) digit of the product. `Hint` It may be inefficient but one way to do it would be to convert it to a string and use string functions."
   ]
  },
  {
   "cell_type": "code",
   "execution_count": 12,
   "metadata": {},
   "outputs": [],
   "source": [
    "i = 340578173507426043985230943209672384235872468237319048309\n",
    "j = 1342343676456325646542526735853245624675934253\n",
    "k = 345357456585326347665555777"
   ]
  },
  {
   "cell_type": "code",
   "execution_count": 16,
   "metadata": {},
   "outputs": [
    {
     "name": "stdout",
     "output_type": "stream",
     "text": [
      "129\n",
      "157888089837933036821003227895468117374173086193395927357057655359281646210475906773613760114452578627496053885839239797664728529\n",
      "[1, 5, 7, 8, 8, 8, 0, 8, 9, 8, 3, 7, 9, 3, 3, 0, 3, 6, 8, 2, 1, 0, 0, 3, 2, 2, 7, 8, 9, 5, 4, 6, 8, 1, 1, 7, 3, 7, 4, 1, 7, 3, 0, 8, 6, 1, 9, 3, 3, 9, 5, 9, 2, 7, 3, 5, 7, 0, 5, 7, 6, 5, 5, 3, 5, 9, 2, 8, 1, 6, 4, 6, 2, 1, 0, 4, 7, 5, 9, 0, 6, 7, 7, 3, 6, 1, 3, 7, 6, 0, 1, 1, 4, 4, 5, 2, 5, 7, 8, 6, 2, 7, 4, 9, 6, 0, 5, 3, 8, 8, 5, 8, 3, 9, 2, 3, 9, 7, 9, 7, 6, 6, 4, 7, 2, 8, 5, 2, 9]\n"
     ]
    }
   ],
   "source": [
    "prod=i*j*k\n",
    "\n",
    "digits=list(map(int,str(prod)))\n",
    "\n",
    "tencount = [1,2,3,4,5,6,7,8,9,0]\n",
    "\n",
    "count = len([i for i in digits if i in tencount])\n",
    "print(count)\n",
    "print(prod)\n",
    "print(digits)"
   ]
  },
  {
   "cell_type": "markdown",
   "metadata": {},
   "source": [
    "## Manipulating Lists and Integers\n",
    "\n",
    "Create a list, `evens`, with the even numbers below 100. Using list indexing, create from `evens` a new list, called `fours_again` which contains only multiples of 4. \n",
    "\n",
    "`Bonus:` Using list comprehension, create from `evens` a new list, called `fours` which contains only multiples of 4.  Check that these two lists are the same."
   ]
  },
  {
   "cell_type": "code",
   "execution_count": 213,
   "metadata": {},
   "outputs": [
    {
     "name": "stdout",
     "output_type": "stream",
     "text": [
      "[2, 4, 6, 8, 10, 12, 14, 16, 18, 20, 22, 24, 26, 28, 30, 32, 34, 36, 38, 40, 42, 44, 46, 48, 50, 52, 54, 56, 58, 60, 62, 64, 66, 68, 70, 72, 74, 76, 78, 80, 82, 84, 86, 88, 90, 92, 94, 96, 98, 100]\n"
     ]
    }
   ],
   "source": [
    "evens = []\n",
    "\n",
    "for i in range(1,101):\n",
    "    if i%2==0:\n",
    "        evens.append(i)\n",
    "print(evens)"
   ]
  }
 ],
 "metadata": {
  "kernelspec": {
   "display_name": "Python 3 (ipykernel)",
   "language": "python",
   "name": "python3"
  },
  "language_info": {
   "codemirror_mode": {
    "name": "ipython",
    "version": 3
   },
   "file_extension": ".py",
   "mimetype": "text/x-python",
   "name": "python",
   "nbconvert_exporter": "python",
   "pygments_lexer": "ipython3",
   "version": "3.9.7"
  }
 },
 "nbformat": 4,
 "nbformat_minor": 2
}
