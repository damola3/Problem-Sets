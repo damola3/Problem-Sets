{
 "cells": [
  {
   "cell_type": "markdown",
   "metadata": {},
   "source": [
    "# Problem Set 3: Solutions\n",
    "\n",
    "Due **10 Feb 2021**\n",
    "\n",
    "Note that there's usually more than one way to achive the same result. As such, these answers show just one (or two) possibilities. You can have a perfectly valid code which achieves the same but differs from below."
   ]
  },
  {
   "cell_type": "code",
   "execution_count": 131,
   "metadata": {},
   "outputs": [],
   "source": [
    "from IPython.core.interactiveshell import InteractiveShell  # This is to display all outputs in a cell\n",
    "InteractiveShell.ast_node_interactivity = \"all\"             # not just the last one (can also be set in preferences)"
   ]
  },
  {
   "cell_type": "markdown",
   "metadata": {},
   "source": [
    "### 1. Import the numpy package under the name `np` \n",
    "(**hint**: import … as …)"
   ]
  },
  {
   "cell_type": "code",
   "execution_count": 132,
   "metadata": {},
   "outputs": [],
   "source": [
    "import numpy as np"
   ]
  },
  {
   "cell_type": "markdown",
   "metadata": {},
   "source": [
    "### 2. Basics of array creation\n",
    "\n",
    "Create an array:\n",
    " - of 10 zeros\n",
    " - of 10 zeros except the fifth entry is a 1\n",
    " - with values ranging from 7 to 28\n",
    " - with values ranging from 7 to 28, but only even numbers\n",
    " - with values ranging from 7 to 28, but in reverse order\n",
    " - of size 10 with values ranging from 0 to 1, evenly spaced, with both endpoints excluded\n",
    " - of size 50, with random integers between 0 and 10\n",
    "     - use `bincount` and `argmax` to find the most frequently occurring value\n",
    " \n",
    " \n",
    " \n",
    "**Hint**: You can use the indexing method `start:stop:step` (not specific to NumPy): it's a general slicing which says include elements from `start` (inclusive) to `stop` (not including) taking every `step` element. If `start` is omitted, this means start from the beginning; if `stop` is omitted, this means continue till the end of the sequence. Finally, negative step means count from the end. So, `::2` takes every other element `::3` every third, etc. Negative indexes read from the end forwards, so `::-1` reads in plain language: \"take the whole sequence and read from the end using step 1.\""
   ]
  },
  {
   "cell_type": "code",
   "execution_count": 133,
   "metadata": {},
   "outputs": [
    {
     "name": "stdout",
     "output_type": "stream",
     "text": [
      "[0. 0. 0. 0. 0. 0. 0. 0. 0. 0.]\n",
      "[0. 0. 0. 0. 1. 0. 0. 0. 0. 0.]\n",
      "[ 7  8  9 10 11 12 13 14 15 16 17 18 19 20 21 22 23 24 25 26 27 28]\n",
      "[ 8 10 12 14 16 18 20 22 24 26 28]\n"
     ]
    },
    {
     "data": {
      "text/plain": [
       "array([ 8, 10, 12, 14, 16, 18, 20, 22, 24, 26, 28])"
      ]
     },
     "execution_count": 133,
     "metadata": {},
     "output_type": "execute_result"
    },
    {
     "name": "stdout",
     "output_type": "stream",
     "text": [
      "[28. 27. 26. 25. 24. 23. 22. 21. 20. 19. 18. 17. 16. 15. 14. 13. 12. 11.\n",
      " 10.  9.  8.  7.]\n"
     ]
    },
    {
     "data": {
      "text/plain": [
       "array([28, 27, 26, 25, 24, 23, 22, 21, 20, 19, 18, 17, 16, 15, 14, 13, 12,\n",
       "       11, 10,  9,  8,  7])"
      ]
     },
     "execution_count": 133,
     "metadata": {},
     "output_type": "execute_result"
    },
    {
     "data": {
      "text/plain": [
       "array([0.09090909, 0.18181818, 0.27272727, 0.36363636, 0.45454545,\n",
       "       0.54545455, 0.63636364, 0.72727273, 0.81818182, 0.90909091])"
      ]
     },
     "execution_count": 133,
     "metadata": {},
     "output_type": "execute_result"
    },
    {
     "data": {
      "text/plain": [
       "[('1', 5),\n",
       " ('6', 5),\n",
       " ('3', 4),\n",
       " ('8', 5),\n",
       " ('0', 10),\n",
       " ('5', 5),\n",
       " ('2', 4),\n",
       " ('7', 6),\n",
       " ('9', 4),\n",
       " ('4', 2)]"
      ]
     },
     "execution_count": 133,
     "metadata": {},
     "output_type": "execute_result"
    }
   ],
   "source": [
    "zs=np.zeros(10)\n",
    "print(zs)\n",
    "zs[4]=1\n",
    "print(zs)\n",
    "\n",
    "ra=np.arange(29)\n",
    "ra=ra[7:29]\n",
    "print(ra)\n",
    "\n",
    "ra_even=[]\n",
    "for i in ra:\n",
    "    if (i%2)==0:\n",
    "        ra_even.append(i)\n",
    "ra_even=np.array(ra_even, dtype='int64')\n",
    "print(ra_even)\n",
    "\n",
    "ra[1::2] #other way to do above function\n",
    "\n",
    "sterev=[i for i in range(29)]\n",
    "sterev=sterev[7:29]\n",
    "sterev.reverse()\n",
    "sterev=np.array(sterev,dtype='float64')\n",
    "print(sterev)\n",
    "\n",
    "osterev=ra[::-1] #other way of above function\n",
    "osterev\n",
    "\n",
    "tensiz=np.linspace(0,1,12)\n",
    "tensiz=tensiz[1:11]\n",
    "tensiz\n",
    "\n",
    "fifsiz=np.random.randint(0, high=10, size=50, dtype=int)\n",
    "numcount={}\n",
    "for num in fifsiz:\n",
    "        if str(num) not in numcount:\n",
    "            numcount[str(num)]=1\n",
    "        else:\n",
    "            numcount[str(num)]+=1\n",
    "numcount=list(numcount.items())\n",
    "numcount"
   ]
  },
  {
   "cell_type": "markdown",
   "metadata": {},
   "source": [
    "### 3.  Multi-Dimensional Arrays\n",
    "\n",
    "Create a:\n",
    " - 5x5 matrix with values from 0 to 24\n",
    " - 5x5 matrix with random values between 0 and 1\n",
    "     - find the min and max values\n",
    "     - find the mean\n",
    "     - find the mean of each row (store this as a vertical vector (a (5x1 matrix)) **Hint**: keepdims=True"
   ]
  },
  {
   "cell_type": "code",
   "execution_count": 134,
   "metadata": {},
   "outputs": [
    {
     "data": {
      "text/plain": [
       "array([[17,  6, 23,  4, 13],\n",
       "       [17,  9, 21, 11,  8],\n",
       "       [10,  6, 22,  9, 13],\n",
       "       [17, 11,  4,  6,  2],\n",
       "       [17, 22, 14, 15, 18]])"
      ]
     },
     "execution_count": 134,
     "metadata": {},
     "output_type": "execute_result"
    },
    {
     "data": {
      "text/plain": [
       "array([[0.23591169, 0.27214648, 0.97021028, 0.94773531, 0.23436908],\n",
       "       [0.51917398, 0.22618642, 0.22191914, 0.50605908, 0.96205308],\n",
       "       [0.38367374, 0.38309427, 0.28563142, 0.49688073, 0.08094971],\n",
       "       [0.08678141, 0.21627757, 0.29489648, 0.85798642, 0.88266075],\n",
       "       [0.17956185, 0.1567345 , 0.71467958, 0.98763324, 0.53089972]])"
      ]
     },
     "execution_count": 134,
     "metadata": {},
     "output_type": "execute_result"
    },
    {
     "data": {
      "text/plain": [
       "0.08094970908161048"
      ]
     },
     "execution_count": 134,
     "metadata": {},
     "output_type": "execute_result"
    },
    {
     "data": {
      "text/plain": [
       "0.9876332407785158"
      ]
     },
     "execution_count": 134,
     "metadata": {},
     "output_type": "execute_result"
    },
    {
     "data": {
      "text/plain": [
       "0.46536423625437273"
      ]
     },
     "execution_count": 134,
     "metadata": {},
     "output_type": "execute_result"
    },
    {
     "data": {
      "text/plain": [
       "array([[0.53207457],\n",
       "       [0.48707834],\n",
       "       [0.32604597],\n",
       "       [0.46772053],\n",
       "       [0.51390178]])"
      ]
     },
     "execution_count": 134,
     "metadata": {},
     "output_type": "execute_result"
    }
   ],
   "source": [
    "mat24=np.random.randint(0, high=24, size=25, dtype=int).reshape(5,5)\n",
    "mat24\n",
    "\n",
    "mat01=np.random.random(25).reshape(5,5)\n",
    "mat01\n",
    "\n",
    "np.min(mat01)\n",
    "np.max(mat01)\n",
    "np.mean(mat01)\n",
    "\n",
    "mat01mean=mat01.mean(axis=1).reshape(5,1)\n",
    "mat01mean"
   ]
  },
  {
   "cell_type": "markdown",
   "metadata": {},
   "source": [
    "### 4. How to find the closest value (to a given scalar) in a vector?\n",
    "Write a function that takes an array and find the index (and the associated value) of the value closest to the mean.\n",
    "Test on `x = np.random.random(12)`."
   ]
  },
  {
   "cell_type": "code",
   "execution_count": 135,
   "metadata": {},
   "outputs": [
    {
     "data": {
      "text/plain": [
       "[0.01706042794368534, (array([7], dtype=int64),)]"
      ]
     },
     "execution_count": 135,
     "metadata": {},
     "output_type": "execute_result"
    }
   ],
   "source": [
    "def closest_to_mean(arr):\n",
    "    \"\"\"\n",
    "    input: arr, an np array of numeric types\n",
    "    output: the index closed to the mean of the array\n",
    "    \"\"\"\n",
    "    m=np.mean(arr)\n",
    "    mdis=[]\n",
    "    for i in arr:\n",
    "        mdis.append(abs(m-i))\n",
    "    mdis.sort()\n",
    "    return [mdis[0], np.where(abs(arr-m)==mdis[0])]\n",
    "        \n",
    "    \n",
    "    \n",
    "x = np.random.random(12)\n",
    "closest_to_mean(x)"
   ]
  },
  {
   "cell_type": "markdown",
   "metadata": {},
   "source": [
    "### 5. Boolean Indexing\n",
    "\n",
    "Create a function `odd_v_even` which: \n",
    " - Takes as input a 5x5 matrix and creates a new matrix, `x`, that is the same as the input matrix except with all even numbers negated. You can use either.\n",
    "     -  Boolean Masking/Indexing\n",
    "     -  `np.where(cond, if-arr, else-arr)`\n",
    " - The function should return the matrix `x` as well as how many rows of `x` have a sum greater than 0. **Hint**: To calculate how many rows have a sum >0, you can calculate sums across each row of `x`, then can use boolean indexing to get True and False values, then use sum to add Trues (1) and Falses (0).\n",
    " \n",
    "Finally, create a 5x5 matrix, called `z`, of random integers between 0 and 10. Run this function on `z`."
   ]
  },
  {
   "cell_type": "code",
   "execution_count": 235,
   "metadata": {
    "scrolled": true
   },
   "outputs": [],
   "source": [
    "def odd_v_even(m):\n",
    "    \"\"\"\n",
    "    input: z is a 5x5 matrix (np object)\n",
    "    output: (z, a) where x is a matrix with even values of z negated and a and int, the number of rows with sum >0\n",
    "    \"\"\"\n",
    "    eve=m%2==0\n",
    "    m[eve]=0\n",
    "    absum=m.sum(axis=1)>0\n",
    "    absumd={}\n",
    "    for i in absum:\n",
    "        if i not in absumd:\n",
    "            absumd[i]=1\n",
    "        else:\n",
    "                absumd[i]+=1\n",
    "    return (mat24,'there are '+str(absumd[True])+' rows greater than zero.')"
   ]
  },
  {
   "cell_type": "code",
   "execution_count": 236,
   "metadata": {},
   "outputs": [
    {
     "data": {
      "text/plain": [
       "(array([[17,  0, 11, 19,  0],\n",
       "        [13, 11,  0, 17,  7],\n",
       "        [ 5,  0,  0, 13,  0],\n",
       "        [ 0,  5,  1, 17,  0],\n",
       "        [ 0,  0,  0,  0, 13]]),\n",
       " 'there are 4 rows greater than zero.')"
      ]
     },
     "execution_count": 236,
     "metadata": {},
     "output_type": "execute_result"
    }
   ],
   "source": [
    "z=np.random.randint(0, high=24, size=25, dtype=int).reshape(5,5)\n",
    "odd_v_even(z)"
   ]
  }
 ],
 "metadata": {
  "kernelspec": {
   "display_name": "Python 3 (ipykernel)",
   "language": "python",
   "name": "python3"
  },
  "language_info": {
   "codemirror_mode": {
    "name": "ipython",
    "version": 3
   },
   "file_extension": ".py",
   "mimetype": "text/x-python",
   "name": "python",
   "nbconvert_exporter": "python",
   "pygments_lexer": "ipython3",
   "version": "3.9.12"
  }
 },
 "nbformat": 4,
 "nbformat_minor": 2
}
