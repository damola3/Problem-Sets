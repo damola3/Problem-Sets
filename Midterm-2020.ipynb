{
 "cells": [
  {
   "cell_type": "markdown",
   "metadata": {},
   "source": [
    "# EC3310 Spring2020 :: Midterm\n",
    "\n",
    "Due 24th February 2020: 9:00am. For anything beyond simple calculations, use comments to indicate what your code is doing. For example explain the inputs and outputs of any function you define, what objects are looping over, etc."
   ]
  },
  {
   "cell_type": "markdown",
   "metadata": {},
   "source": [
    "## Housekeeping"
   ]
  },
  {
   "cell_type": "code",
   "execution_count": 1,
   "metadata": {},
   "outputs": [],
   "source": [
    "import pandas as pd  # Import pandas and use shorthand notation pd to save on typing\n",
    "from pandas import Series, DataFrame \n",
    "import numpy as np                            \n",
    "import statsmodels.api as sm \n",
    "\n",
    "pd.options.display.max_rows = 20\n",
    "from IPython.core.interactiveshell import InteractiveShell\n",
    "InteractiveShell.ast_node_interactivity = \"all\""
   ]
  },
  {
   "cell_type": "markdown",
   "metadata": {},
   "source": [
    "## 1: Standard Deviation\n",
    "**20pts**"
   ]
  },
  {
   "cell_type": "markdown",
   "metadata": {},
   "source": [
    "Construct a function that takes as an input an array of numeric types and outputs the standard deviation of that array. Of course, do not use the built in functions for standard deviation (`std()`) or mean (`mean`). The formula for the standard deviation of a sample is \n",
    "\n",
    "$$ \\sigma = \\Big(\\frac{\\sum(x_i - \\mu)^2)}{N}\\Big)^{\\frac{1}{2}} $$\n",
    "\n",
    "where sample $\\sigma$ is the standard deviation, and $\\mu$ is the sample mean.\n",
    "\n",
    "Test it on a array of 100 normally distributed numbers (use `np.random.randn`); you should get the same estimate as the built in function `np.std()`."
   ]
  },
  {
   "cell_type": "code",
   "execution_count": 36,
   "metadata": {},
   "outputs": [],
   "source": [
    "import math\n",
    "def standdev(ar):\n",
    "    \"\"\"\n",
    "    input: an array of 100 normally distributed numbers\n",
    "    output: its standard deviation\n",
    "    \"\"\"\n",
    "    ssd=0\n",
    "    sx=0\n",
    "    n=0\n",
    "    mean=0\n",
    "    for arr in ar:\n",
    "        n=len(arr)\n",
    "        for i in arr:\n",
    "            sx+=i\n",
    "    mean=sx/n\n",
    "    for arr in ar:\n",
    "        for i in arr:\n",
    "            ssd+=(i-mean)**2\n",
    "    return math.sqrt(ssd/n)"
   ]
  },
  {
   "cell_type": "code",
   "execution_count": 38,
   "metadata": {},
   "outputs": [
    {
     "data": {
      "text/plain": [
       "100"
      ]
     },
     "execution_count": 38,
     "metadata": {},
     "output_type": "execute_result"
    },
    {
     "data": {
      "text/plain": [
       "0.9543050191330535"
      ]
     },
     "execution_count": 38,
     "metadata": {},
     "output_type": "execute_result"
    }
   ],
   "source": [
    "data=np.random.randn(1,100)\n",
    "for i in data:\n",
    "    len(i) \n",
    "standdev(data)"
   ]
  },
  {
   "cell_type": "markdown",
   "metadata": {},
   "source": [
    "## 2: Grades\n",
    "**25pts**\n",
    "\n",
    "Write a function, `final_grade_ranking` that takes two inputs: a dictionary (containing students as keys and a list of grades of length n) and a set of weights for each assignment (the set of weights is also of length n). The output is a list of pairs (students names, grade) sorted by the weighted average.\n",
    "\n",
    "For example, here if there were three assignments, and four students the dictionary might be given by `grades` and the weights by `weights`, in the cell below. The weights can be thought of as percentages.\n",
    "\n",
    "The output should be `[('jerry', 51.0), ('larry', 54.0), ('kerry', 75.0), ('mary', 78.0)]`\n",
    "\n",
    "**Hint**: Construct a function `final_grade` that calculates a final grade from the list of assignments and the weights. Then, use that function in the `final_grade_ranking` as the key on which to sort the list.\n",
    "\n",
    "**Double Hint**: You first create a list of student names `rank_names` appropriately sorted, then create a list of the associated grades, `mapped_grades` using `map` (See the `sortByExVal` function is PS2). You can then combine these two lists to get the correct output using `list(zip(rank_names,mapped_grades))`\n"
   ]
  },
  {
   "cell_type": "code",
   "execution_count": 42,
   "metadata": {},
   "outputs": [],
   "source": [
    "grades = {'jerry': [55,90,10], 'kerry': [88,66,77], 'larry': [70, 90,10], 'mary': [90, 60, 90]}\n",
    "weights = [20,40,40]"
   ]
  },
  {
   "cell_type": "code",
   "execution_count": 157,
   "metadata": {},
   "outputs": [],
   "source": [
    "def final_grade(g,w):\n",
    "    \"\"\"\n",
    "    input: a dictionary with students as keys, their associated weights and a list of weights\n",
    "    output: a dictionary with students as keys and their associated values\n",
    "    \"\"\"\n",
    "    fin_gra={}\n",
    "    for stu in g:\n",
    "        for i in range(len(w)):\n",
    "            if stu not in fin_gra:\n",
    "                fin_gra[stu]=g[stu][i]*(w[i]/100)\n",
    "            else:\n",
    "                fin_gra[stu]+=g[stu][i]*(w[i]/100)\n",
    "    return (fin_gra)\n",
    "        "
   ]
  },
  {
   "cell_type": "code",
   "execution_count": 165,
   "metadata": {},
   "outputs": [
    {
     "data": {
      "text/plain": [
       "[['jerry', 51.0], ['larry', 54.0], ['kerry', 74.8], ['mary', 78.0]]"
      ]
     },
     "execution_count": 165,
     "metadata": {},
     "output_type": "execute_result"
    }
   ],
   "source": [
    "import operator\n",
    "def final_grade_ranking(g,w):\n",
    "    \"\"\"\n",
    "    input: a dictionary with students as keys and their associated grades\n",
    "    output: a list of students by sorted grades\n",
    "    \"\"\"\n",
    "    grad=final_grade(g,w)\n",
    "    listgrad=[]\n",
    "    for stu in grad:\n",
    "            listgrad.append([stu,grad[stu]])\n",
    "    return sorted(listgrad,key=operator.itemgetter(1))\n",
    "\n",
    "final_grade_ranking(grades,weights)\n",
    "            "
   ]
  },
  {
   "cell_type": "code",
   "execution_count": 163,
   "metadata": {},
   "outputs": [
    {
     "data": {
      "text/plain": [
       "{'jerry': 51.0, 'kerry': 74.8, 'larry': 54.0, 'mary': 78.0}"
      ]
     },
     "execution_count": 163,
     "metadata": {},
     "output_type": "execute_result"
    }
   ],
   "source": [
    "#test\n",
    "final_grade(grades,weights)\n",
    "#final_grade_ranking(grades,weights)"
   ]
  },
  {
   "cell_type": "markdown",
   "metadata": {},
   "source": [
    "## 3. NBA Salaries \n",
    "\n",
    "**15pts**\n",
    "\n",
    "The code in the cell below will create a pandas data frame describing Baskeball players. Each observation is a player and include data on his name, team, position, and salary. \n",
    "\n",
    "(i) Create an panda series, indexed by team, with values of the team's total salary expenditure. Sort high to low.\n",
    "(ii) Create an panda series, indexed by position, with values of the positions average salary expenditure. Sort high to low."
   ]
  },
  {
   "cell_type": "code",
   "execution_count": null,
   "metadata": {},
   "outputs": [],
   "source": [
    "nba = pd.read_csv(\"https://raw.githubusercontent.com/sivabalanb/Data-Analysis-with-Pandas-and-Python/master/nba.csv\")\n",
    "nba.fillna(0)"
   ]
  },
  {
   "cell_type": "code",
   "execution_count": null,
   "metadata": {},
   "outputs": [],
   "source": []
  },
  {
   "cell_type": "markdown",
   "metadata": {},
   "source": [
    "## 4: Wine Quality\n",
    "\n",
    "**40pts**\n",
    "\n",
    "Download the WineQuality data set, `WQ.csv` from the data folder on Moodle. Save this in a folder (directory) called `data` inside of the folder (directory) that is containing this .ipynb file. This dataset has attributes for a bunch of wines as well as the quality as measured by some survey / taste test.\n",
    "\n",
    "\n",
    "Import this csv as a pandas dataframe. Notice that the delimiter separating values is not a comma but a semicolon. Use the `delimiter=\";\"` optional argument when calling `pd.read_csv`.\n",
    "\n",
    "\n",
    "1. Print the columns of this dataframe. \n",
    "2. Print summary statistics of the variables using the `describe` function. \n",
    "3. Make the quality variable range from 0-5. You can see the initial range from the description in part (2). Make sure that whatever transformation you take is linear/affine (you simply add a constant or multiply by a scalar). "
   ]
  },
  {
   "cell_type": "code",
   "execution_count": null,
   "metadata": {},
   "outputs": [],
   "source": [
    "#df = pd.read_csv(\"data/WQ.csv\", delimiter=\";\") #df is our DataFrame. The original file was a CSV."
   ]
  },
  {
   "cell_type": "markdown",
   "metadata": {},
   "source": [
    "Compute the Standard Deviation, using your constructed function from Q2, of the alcohol variable. Test this against the summary stat above. If the estimates are slightly off that is fine, its because of a difference in the degrees of freedom assumed in the calculation: `df['alcohol'].std(ddof=0)` should provide the exact same estimate."
   ]
  },
  {
   "cell_type": "code",
   "execution_count": null,
   "metadata": {},
   "outputs": [],
   "source": []
  },
  {
   "cell_type": "markdown",
   "metadata": {},
   "source": [
    "Print the correlation matrix of the variables. "
   ]
  },
  {
   "cell_type": "code",
   "execution_count": null,
   "metadata": {},
   "outputs": [],
   "source": []
  },
  {
   "cell_type": "markdown",
   "metadata": {},
   "source": [
    "Using the `statsmodels` package, estimate a milti-linear model using Ordinary Least Squares regression (OLS) with the dependent variable 'quality' and all other variables as independent variables. Print the summary of the model."
   ]
  },
  {
   "cell_type": "code",
   "execution_count": null,
   "metadata": {},
   "outputs": [],
   "source": []
  },
  {
   "cell_type": "markdown",
   "metadata": {},
   "source": [
    "Notice that there is a multicollinearity warning. This is because some of the independent variable are linearly related. If we look at the correlation matrix above we can see that 'fixed acidity' and 'citric acid' are highly correlated as are (the negative of) 'volatile acidity' with these measures. Also the different measures of sulfur dioxide are highly correlated. Drop 'volatile acidity', 'citric acid', and 'total sulfur dioxide' and re-run the regression from above."
   ]
  },
  {
   "cell_type": "code",
   "execution_count": null,
   "metadata": {},
   "outputs": [],
   "source": []
  },
  {
   "cell_type": "markdown",
   "metadata": {},
   "source": [
    "Consider the following dictionary, `new_wines` which encodes the attributes for 3 new wines, labeled 'a'-'e'. Encode these new wines as a dataframe. \n",
    "\n",
    "Assume the the following demand function, as a function of quality, provides the best price for wine.\n",
    "\n",
    "$$P = 7.5 + 2*Q$$\n",
    "\n",
    "where $P$ is the price and $Q$ is the quality as a range from 0-5. \n",
    "Using the model estimated above, find the best prediction of price for each of these wines. That is, use the model to estimate quality and use that estimation as an input for the price function."
   ]
  },
  {
   "cell_type": "code",
   "execution_count": null,
   "metadata": {},
   "outputs": [],
   "source": [
    "new_wines = {'fixed acidity': {'a': 6.6, 'b': 7.7, 'c': 12.2, 'd': 11.4, 'e': 7.7},\n",
    " 'residual sugar': {'a': 7.9, 'b': 1.7, 'c': 2.6, 'd': 2.7, 'e': 2.7},\n",
    " 'chlorides': {'a': 0.122,'b': 0.059,'c': 0.085,'d': 0.085,'e': 0.075},\n",
    " 'free sulfur dioxide': {'a': 68.0,'b': 20.0,'c': 19.0,'d': 10.0,'e': 15.0},\n",
    " 'density': {'a': 0.9994, 'b': 0.9949, 'c': 1.0, 'd': 0.9994, 'e': 0.9974},\n",
    " 'pH': {'a': 3.47, 'b': 3.29, 'c': 3.1, 'd': 3.15, 'e': 3.26},\n",
    " 'sulphates': {'a': 0.53, 'b': 0.47, 'c': 0.61, 'd': 0.63, 'e': 0.61},\n",
    " 'alcohol': {'a': 9.9, 'b': 10.8, 'c': 10.5, 'd': 10.5, 'e': 9.1}}"
   ]
  },
  {
   "cell_type": "code",
   "execution_count": null,
   "metadata": {},
   "outputs": [],
   "source": []
  }
 ],
 "metadata": {
  "kernelspec": {
   "display_name": "Python 3 (ipykernel)",
   "language": "python",
   "name": "python3"
  },
  "language_info": {
   "codemirror_mode": {
    "name": "ipython",
    "version": 3
   },
   "file_extension": ".py",
   "mimetype": "text/x-python",
   "name": "python",
   "nbconvert_exporter": "python",
   "pygments_lexer": "ipython3",
   "version": "3.9.12"
  }
 },
 "nbformat": 4,
 "nbformat_minor": 2
}
