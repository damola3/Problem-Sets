{
 "cells": [
  {
   "cell_type": "markdown",
   "metadata": {},
   "source": [
    "## EC3110 Midterm Exam\n",
    "\n",
    "Due **Wednesday 24.02.2021 at 13:00**\n",
    "\n",
    "Both correctness and efficiency will be taken into account when grading, so adhere to best practices. E.g., use functions when appropriate, do not nest function definitions inside each other or inside loops, use conditional statements rather than manual case handling, make sure all functions are properly documented with a docstring, etc."
   ]
  },
  {
   "cell_type": "code",
   "execution_count": null,
   "metadata": {},
   "outputs": [],
   "source": [
    "#import nec packages\n",
    "import random\n",
    "import pandas as pd\n",
    "import numpy as np"
   ]
  },
  {
   "cell_type": "markdown",
   "metadata": {},
   "source": [
    "## Q1: Candidate Number\n",
    "\n",
    "\n",
    "**15 pts**\n",
    "\n",
    "In the box below, set the variable `CN` to your candidate number. Then in the next box write *a function* that takes an integer input and computes the sum of digits of the integer, divides this sum by 3 and returns the remainder (i.e., returns the sum of the digits <a href=\"https://en.wikipedia.org/wiki/Modulo_operation\" target=\"_blank\">mod 3</a>). \n",
    "\n",
    "For example, `1234` would return `1` since `1+2+3+4 = 10` and `10%3 == 1` \n",
    "\n",
    "Call this function `cnm3`.\n",
    "\n",
    "**HINT** A valid but efficient method would be to convert the input integer to a string and loop over (and sum) the characters of the string. A faster method is to keep the input an integer and repeatedly divide by 10, taking the ones digit each time. Towards  this, the following operations might be helpful: `//` is integer division, `n // d` divides `n` by `d` *ignoring* and remainder. `%` is, of course, the mod operation that produces the remainder."
   ]
  },
  {
   "cell_type": "code",
   "execution_count": 5,
   "metadata": {},
   "outputs": [],
   "source": [
    "#enter your (actual) candidate number\n",
    "CN = 2109975"
   ]
  },
  {
   "cell_type": "code",
   "execution_count": 6,
   "metadata": {},
   "outputs": [],
   "source": [
    "#complete function cnm3\n",
    "def cnm3(n):\n",
    "    \"\"\"\n",
    "    input: n is an integer\n",
    "    output: integer in {0,1,2}, sum of digits mod 3\n",
    "    \"\"\"\n",
    "    tally=0\n",
    "    digits=list(str(n))\n",
    "    for i in digits:\n",
    "        tally+=int(i)\n",
    "    return tally%3"
   ]
  },
  {
   "cell_type": "code",
   "execution_count": 7,
   "metadata": {},
   "outputs": [
    {
     "data": {
      "text/plain": [
       "0"
      ]
     },
     "execution_count": 7,
     "metadata": {},
     "output_type": "execute_result"
    }
   ],
   "source": [
    "#get key\n",
    "cnm3(CN)"
   ]
  },
  {
   "cell_type": "markdown",
   "metadata": {},
   "source": [
    "The output of `cnm3(CN)` should be in the set {0,1,2}. This is your **key**. You will use this number is the following questions."
   ]
  },
  {
   "cell_type": "markdown",
   "metadata": {},
   "source": [
    "## Q2: Random Groups\n",
    "\n",
    "\n",
    "**30 pts**\n",
    "\n",
    "\n",
    "Write a function, called `rand_groups` which takes as an input a list of student numbers and generates as output *random* groups of `n` students, exhausting the list. The number `n` should equal your key plus 3. For example, if your key was 1 (i.e., if `cnm3(CN) = 1`) then you should create random groups of `n = 3 + 1 = 4` students. If there is one group with less students that is okay. \n",
    "\n",
    "The output should be a dictionary with keys as integers, starting at 0, and values the corresponding groups (the groups can be lists of students). \n",
    "\n",
    "**HINT** Use a nested loop. On the outside, a `while` loop that keeps looping until we run out of students, on the inside loop, a `for` loop, draw key + 3 random students, add them to a list, remove them from the master list of students, then add this list of key + 3 students to the output. \n",
    "\n",
    "The random package (import below) contains the method\n",
    "`random.randint(low,high)` to draw a random integer between `low` and `high` (both included). So to draw a single random student for a list called `lst` requires `random.randint(0,len(lst)-1)`."
   ]
  },
  {
   "cell_type": "code",
   "execution_count": 99,
   "metadata": {},
   "outputs": [],
   "source": [
    "import random\n",
    "#create function rand_groups\n",
    "def rand_groups(s,k):\n",
    "    \"\"\"input:\n",
    "    'k' - A key of {0,1,2}\n",
    "    's' - A list of student numbers\n",
    "    \"\"\"\n",
    "    n=cnm3(k)+3\n",
    "    gr={} #list of student groups numbered by keys\n",
    "    st=0 #index of students in groups\n",
    "    grn=0 #number of list groups\n",
    "    lino=0 #index of student numbers\n",
    "    sl=s\n",
    "    stuno=range(len(s))\n",
    "    \n",
    "    for i in stuno: #the number of elements is the number of iterations\n",
    "        if st==0:\n",
    "            lino=random.randint(0,len(sl)-1)\n",
    "            gr[grn]=[sl[lino]]\n",
    "            sl.remove(sl[lino])\n",
    "            st+=1\n",
    "        else:\n",
    "            if st<n:\n",
    "                lino=random.randint(0,len(sl)-1)\n",
    "                gr[grn].append(sl[lino])\n",
    "                sl.remove(sl[lino])\n",
    "                st+=1\n",
    "            else:\n",
    "                st=0\n",
    "                grn+=1\n",
    "                lino=random.randint(0,len(sl)-1)\n",
    "                gr[grn]=[s[lino]]\n",
    "                sl.remove(s[lino])\n",
    "                st+=1\n",
    "            \n",
    "    return gr   \n",
    "        \n",
    "        \n",
    "\n"
   ]
  },
  {
   "cell_type": "code",
   "execution_count": 100,
   "metadata": {},
   "outputs": [
    {
     "data": {
      "text/plain": [
       "{0: [129, 227, 223],\n",
       " 1: [130, 127, 124],\n",
       " 2: [136, 168, 125],\n",
       " 3: [126, 226, 132],\n",
       " 4: [225, 133, 131],\n",
       " 5: [224, 228, 123],\n",
       " 6: [167, 128, 134],\n",
       " 7: [169]}"
      ]
     },
     "execution_count": 100,
     "metadata": {},
     "output_type": "execute_result"
    }
   ],
   "source": [
    "#test case\n",
    "l_sn = [123,124,125,126,127,128,129,130,131,132,133,134,136,167,168,169,223,224,225,226,227,228]\n",
    "\n",
    "rand_groups(l_sn,cnm3(CN))"
   ]
  },
  {
   "cell_type": "markdown",
   "metadata": {},
   "source": [
    "## Q3: Three Gamblers\n",
    "\n",
    "\n",
    "**30 pts**\n",
    "\n",
    "\n",
    "Three brothers Dmitri, Ivan, and Alexei are playing a gambling game. They roll a three sided die with three equally likely outcomes: $\\{0,1,2\\}$. \n",
    "\n",
    " - If a 0 is rolled: Dimitri pays each of his brothers \\$k where `k` is the value of your key above (i.e., either 0, 1, or 2 depending on your CN in Q1). That is, he looses 2k dollars and each other brother gains k dollars.\n",
    " - If a 1 is rolled: Ivan pays Dimitri 1 dollar (so D gains a dollar, I loses a dollar and A retains his wealth).\n",
    " - If a 2 is rolled: Alexei pays Dimitri 1 dollar (so D gains a dollar, A loses a dollar and I retains his wealth).\n",
    " \n",
    "The brothers play 1000 times. Simulate this and store the results in a DataFrame where each column is a brother and the nth row contains the brothers wealth after n rolls. \n",
    "\n",
    "Add two column storing the outcome of the roll and the current leader (who has the highest wealth).\n",
    "\n",
    "**Hint** this is possible using a for loop, and drawing a random integer each loop, calculating the change in wealth and then appending the row onto the DataFrame. It is also possible (and likely less coding) to calculate all the rolls as once using a Numpy array, similar to the Random Walk example at the end of Lecture 3. "
   ]
  },
  {
   "cell_type": "code",
   "execution_count": null,
   "metadata": {},
   "outputs": [],
   "source": [
    "#create dataFrame \n",
    "\n"
   ]
  },
  {
   "cell_type": "markdown",
   "metadata": {},
   "source": [
    "## Q4: Unemployment by State and Year\n",
    "\n",
    "\n",
    "\n",
    "**25 pts**\n",
    "\n",
    "The next cell loads the file  `u.xlsx` into a DataFrame from a URL. This will only work with an active internet connection. Alternatively, you can download the excel file  `u.xlsx` from moodel and change the file path below. \n",
    "\n",
    "The file contains monthly unemployment statistics for US states from 1976 to 2020. The column `Perc_Unemployment` contains the unemployment rate for a given state/month/year triple. Find:\n",
    "\n",
    " - The state/month/year triple with the highest unemployment.\n",
    " - The state that has the highest average unemployment over the entire sample.\n",
    " - Write a function, `worst_year` that takes as an input the name of a state or area (as a string), and outputs the `k+2` years, in order, in which that state had the highest average unemployment where `k` is your key from above.  "
   ]
  },
  {
   "cell_type": "code",
   "execution_count": null,
   "metadata": {},
   "outputs": [],
   "source": [
    "u = pd.read_excel(\"https://evanpiermont.github.io/data/u.xlsx\", header=7)\n",
    "#this might take a second to run\n",
    "#you can also download this file `u.xlsx` from the moodle page and host it locally. chaange the argument to the file path as in the lecture"
   ]
  },
  {
   "cell_type": "code",
   "execution_count": null,
   "metadata": {},
   "outputs": [],
   "source": [
    "#find higest state/month/year\n",
    "\n"
   ]
  },
  {
   "cell_type": "code",
   "execution_count": null,
   "metadata": {},
   "outputs": [],
   "source": [
    "#find highest avg over all states\n",
    "\n"
   ]
  },
  {
   "cell_type": "code",
   "execution_count": null,
   "metadata": {},
   "outputs": [],
   "source": [
    "#crete function worst_year\n",
    "\n"
   ]
  }
 ],
 "metadata": {
  "kernelspec": {
   "display_name": "Python 3 (ipykernel)",
   "language": "python",
   "name": "python3"
  },
  "language_info": {
   "codemirror_mode": {
    "name": "ipython",
    "version": 3
   },
   "file_extension": ".py",
   "mimetype": "text/x-python",
   "name": "python",
   "nbconvert_exporter": "python",
   "pygments_lexer": "ipython3",
   "version": "3.9.7"
  }
 },
 "nbformat": 4,
 "nbformat_minor": 4
}
